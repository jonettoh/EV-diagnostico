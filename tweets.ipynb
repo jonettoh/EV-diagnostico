{
 "cells": [
  {
   "cell_type": "code",
   "execution_count": null,
   "metadata": {},
   "outputs": [],
   "source": [
    "import json\n",
    "import pandas as pd\n",
    "from pandas.io.json import json_normalize\n",
    "import warnings\n",
    "warnings.filterwarnings(\"ignore\")\n"
   ]
  },
  {
   "cell_type": "code",
   "execution_count": 1,
   "metadata": {},
   "outputs": [
    {
     "ename": "SyntaxError",
     "evalue": "'(' was never closed (2141100067.py, line 9)",
     "output_type": "error",
     "traceback": [
      "\u001b[1;36m  Input \u001b[1;32mIn [1]\u001b[1;36m\u001b[0m\n\u001b[1;33m    users.drop_duplicates(subset=['userId'], inplace=True\u001b[0m\n\u001b[1;37m                         ^\u001b[0m\n\u001b[1;31mSyntaxError\u001b[0m\u001b[1;31m:\u001b[0m '(' was never closed\n"
     ]
    }
   ],
   "source": [
    "#Aca obtenemos los tweets\n",
    "raw_tweets = pd.read_json('farmers-protest-tweets-2021-03-5.json', lines=True)\n",
    "raw_tweets = raw_tweets[raw_tweets['lang']=='en']\n",
    "#Aca se obtiene la informacion de los usuarios\n",
    "users = json_normalize(raw_tweets['user'])\n",
    "users.drop(['description', 'linkTcourl'], axis=1, inplace=True)\n",
    "users.rename(columns={'id':'userId', 'url':'profileUrl'}, inplace=True)\n",
    "users = pd.DataFrame(users)\n",
    "users.drop_duplicates(subset=['userId'], inplace=True)\n",
    "user_id = []\n",
    "for user in raw_tweets['user']:\n",
    "    uid = user['id']\n",
    "    user_id.append(uid)\n",
    "raw_tweets['userId'] = user_id\n",
    "#Aca la informacion sobre los tweets\n",
    "cols = ['url', 'date', 'renderedContent', 'id', 'userId', 'replyCount', 'retweetCount', 'likeCount', 'quoteCount', 'source', 'media', 'retweetedTweet', 'quotedTweet', 'mentionedUsers']\n",
    "tweets = raw_tweets[cols]\n",
    "tweets.rename(columns={'id':'tweetId', 'url':'tweetUrl'}, inplace=True)\n",
    "tweets['date']= pd.to_datetime(tweets['date']).dt.date\n",
    "users.head(5)\n",
    "tweets.head(5)"
   ]
  }
 ],
 "metadata": {
  "interpreter": {
   "hash": "a100999716adaeb70e23a31e8c44d044f0ed068361ebdf70621805e827c84555"
  },
  "kernelspec": {
   "display_name": "Python 3.10.4 64-bit",
   "language": "python",
   "name": "python3"
  },
  "language_info": {
   "codemirror_mode": {
    "name": "ipython",
    "version": 3
   },
   "file_extension": ".py",
   "mimetype": "text/x-python",
   "name": "python",
   "nbconvert_exporter": "python",
   "pygments_lexer": "ipython3",
   "version": "3.10.4"
  },
  "orig_nbformat": 4
 },
 "nbformat": 4,
 "nbformat_minor": 2
}
